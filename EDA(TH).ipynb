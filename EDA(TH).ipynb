{
 "cells": [
  {
   "cell_type": "markdown",
   "id": "73151f1e",
   "metadata": {},
   "source": [
    "What is EDA\n",
    "Exploratory Data Analysis (EDA) is an approach to analyze the data using visual techniques. "
   ]
  },
  {
   "cell_type": "markdown",
   "id": "fad104e1",
   "metadata": {},
   "source": [
    "What is EDA used for?\n",
    "Exploratory data analysis (EDA) is used by data scientists to analyze\n",
    "and investigate data sets and summarize their main characteristics, often employing data visualization methods.\n",
    "It is used to discover trends, patterns, or to check assumptions with the help of statistical summary \n",
    "and graphical representations."
   ]
  },
  {
   "cell_type": "markdown",
   "id": "43f9e60a",
   "metadata": {},
   "source": [
    "EDA\n",
    "1)Helps you prepare your dataset for analysis.\n",
    "2)Allows a machine learning model to predict our dataset better.\n",
    "3)Gives you more accurate results.\n",
    "4)It also helps us to choose a better machine learning model."
   ]
  },
  {
   "cell_type": "markdown",
   "id": "26e87bc0",
   "metadata": {},
   "source": [
    "Step envolve in EDA\n",
    "1)Data Collection"
   ]
  },
  {
   "cell_type": "markdown",
   "id": "be05f3ca",
   "metadata": {},
   "source": [
    "2)Importing Data"
   ]
  },
  {
   "cell_type": "markdown",
   "id": "7bc20b74",
   "metadata": {},
   "source": [
    "3)Data Cleaning\n",
    "    Removing missing values, outliers, and unnecessary rows/ columns,null values,check for duplicates,data reduction"
   ]
  },
  {
   "cell_type": "markdown",
   "id": "f29e6970",
   "metadata": {},
   "source": [
    "4)statistic Summary\n",
    "    .info()\n",
    "    .describe()"
   ]
  },
  {
   "cell_type": "markdown",
   "id": "ec2c9f90",
   "metadata": {},
   "source": [
    "5) Univariate Analysis\n",
    "  In Univariate Analysis, you analyze data of just one variable.\n",
    "    A variable in your dataset refers to a single feature/ column.\n",
    "    we can do it by visual methods like,\n",
    "    1)Histogram\n",
    "    2)Boxplot\n",
    "    3)Pie chart"
   ]
  },
  {
   "cell_type": "markdown",
   "id": "cf2a0473",
   "metadata": {},
   "source": [
    "6)  Bivariate Analysis\n",
    "    Here, you use two variables and compare them. This way, you can find how one feature affects the other. \n",
    "    It is done with scatter plots, which plot individual data points or correlation matrices that plot the correlation in hues."
   ]
  },
  {
   "cell_type": "markdown",
   "id": "91ac6106",
   "metadata": {},
   "source": [
    " Numeric-Numeric Analysis\n",
    "      When both the variables being compared have numeric data, the analysis is said to be Numeric-Numeric Analysis. \n",
    "      1)scatter plot\n",
    "      2)Pair plot\n",
    "      3)Correlation Matrix\n",
    "      A correlation matrix is used to see the correlation between different variables."
   ]
  },
  {
   "cell_type": "markdown",
   "id": "bfaac430",
   "metadata": {},
   "source": [
    "2. Numeric - Categorical Analysis\n",
    "      When one variable is of numeric type and another is a categorical variable, then you perform numeric-categorical  \n",
    "    analysis.\n",
    "      You can use the groupby function to arrange the data into similar groups."
   ]
  },
  {
   "cell_type": "markdown",
   "id": "17ba2663",
   "metadata": {},
   "source": [
    "3. Categorical — Categorical Analysis\n",
    "When both the variables contain categorical data, you perform categorical-categorical analysis.\n",
    "First, convert the categorical response column into a numerical column \n",
    "e.g - yes-no ,true-false, +ve-ve,\n",
    "yes,true,+ve = 1\n",
    "no ,false ,-ve =0\n",
    "with 1 corresponding to a positive response and 0 corresponding to a negative response"
   ]
  }
 ],
 "metadata": {
  "kernelspec": {
   "display_name": "Python 3 (ipykernel)",
   "language": "python",
   "name": "python3"
  },
  "language_info": {
   "codemirror_mode": {
    "name": "ipython",
    "version": 3
   },
   "file_extension": ".py",
   "mimetype": "text/x-python",
   "name": "python",
   "nbconvert_exporter": "python",
   "pygments_lexer": "ipython3",
   "version": "3.9.13"
  }
 },
 "nbformat": 4,
 "nbformat_minor": 5
}
